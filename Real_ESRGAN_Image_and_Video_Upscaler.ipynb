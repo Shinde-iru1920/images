{
  "nbformat": 4,
  "nbformat_minor": 0,
  "metadata": {
    "colab": {
      "provenance": [],
      "collapsed_sections": [
        "6BPxh_VmVVIu"
      ],
      "include_colab_link": true
    },
    "kernelspec": {
      "name": "python3",
      "display_name": "Python 3"
    },
    "language_info": {
      "name": "python"
    },
    "accelerator": "GPU"
  },
  "cells": [
    {
      "cell_type": "markdown",
      "metadata": {
        "id": "view-in-github",
        "colab_type": "text"
      },
      "source": [
        "<a href=\"https://colab.research.google.com/github/Shinde-iru1920/images/blob/main/Real_ESRGAN_Image_and_Video_Upscaler.ipynb\" target=\"_parent\"><img src=\"https://colab.research.google.com/assets/colab-badge.svg\" alt=\"Open In Colab\"/></a>"
      ]
    },
    {
      "cell_type": "code",
      "source": [
        "from google.colab import drive\n",
        "drive.mount('/content/drive')"
      ],
      "metadata": {
        "id": "Dxzyb6VcLKbN"
      },
      "execution_count": null,
      "outputs": []
    },
    {
      "cell_type": "code",
      "metadata": {
        "id": "GnpnrLfMV2jU"
      },
      "source": [
        "# @title\n",
        "# Clone Real-ESRGAN and enter the Real-ESRGAN\n",
        "!git clone https://github.com/xinntao/Real-ESRGAN.git\n",
        "%cd Real-ESRGAN\n",
        "# Set up the environment\n",
        "!pip install basicsr\n",
        "!pip install facexlib\n",
        "!pip install gfpgan\n",
        "!pip install ffmpeg-python\n",
        "!pip install -r requirements.txt\n",
        "!python setup.py develop\n",
        "\n",
        "from IPython.display import HTML\n",
        "from base64 import b64encode\n",
        "\n",
        "def show_video(video_path, video_width = 720):\n",
        "\n",
        "  video_file = open(video_path, \"r+b\").read()\n",
        "\n",
        "  video_url = f\"data:video/mp4;base64,{b64encode(video_file).decode()}\"\n",
        "  return HTML(f\"\"\"<video width={video_width} controls><source src=\"{video_url}\"></video>\"\"\")"
      ],
      "execution_count": null,
      "outputs": []
    },
    {
      "source": [
        "import os\n",
        "import subprocess\n",
        "\n",
        "# Define the path to the file\n",
        "# Use pip show to find the installation location of basicsr\n",
        "try:\n",
        "    # Run pip show basicsr and capture the output\n",
        "    result = subprocess.run(['pip', 'show', 'basicsr'], capture_output=True, text=True, check=True)\n",
        "    # Find the 'Location:' line in the output\n",
        "    for line in result.stdout.splitlines():\n",
        "        if line.startswith('Location:'):\n",
        "            package_location = line.split(': ')[1].strip()\n",
        "            break\n",
        "    else:\n",
        "        raise Exception(\"Could not find installation location for basicsr\")\n",
        "\n",
        "    # Construct the file path using the found location\n",
        "    file_path = os.path.join(package_location, 'basicsr', 'data', 'degradations.py')\n",
        "    print(f\"Constructed file path: {file_path}\")\n",
        "\n",
        "except Exception as e:\n",
        "    print(f\"Error finding basicsr installation location: {e}\")\n",
        "    # Exit or handle the error appropriately\n",
        "    exit()\n",
        "\n",
        "\n",
        "# Check if the file exists before attempting to open it\n",
        "if not os.path.exists(file_path):\n",
        "    print(f\"Error: File not found at the constructed path: {file_path}\")\n",
        "    # Exit or handle the error appropriately\n",
        "    exit()\n",
        "\n",
        "# Read the content of the file\n",
        "with open(file_path, 'r') as file:\n",
        "    file_data = file.readlines()\n",
        "\n",
        "# Modify the specific line\n",
        "modified = False\n",
        "for i, line in enumerate(file_data):\n",
        "    if 'from torchvision.transforms.functional_tensor import rgb_to_grayscale' in line:\n",
        "        file_data[i] = 'from torchvision.transforms.functional import rgb_to_grayscale\\n'\n",
        "        modified = True\n",
        "        break\n",
        "\n",
        "if modified:\n",
        "    # Write the modified content back to the file\n",
        "    with open(file_path, 'w') as file:\n",
        "        file.writelines(file_data)\n",
        "    print(\"Modification applied successfully.\")\n",
        "else:\n",
        "    print(\"Target line not found in the file. No modification applied.\")"
      ],
      "cell_type": "code",
      "metadata": {
        "id": "zOjikYh-k77f"
      },
      "execution_count": null,
      "outputs": []
    },
    {
      "cell_type": "code",
      "source": [
        "import os\n",
        "\n",
        "# Settings\n",
        "input_folder = \"/content/drive/MyDrive/Manga/c145\"\n",
        "model = \"RealESRGAN_x4plus_anime_6B\"\n",
        "scale = 2\n",
        "face_enhance = False\n",
        "code = \"inference_realesrgan.py\"\n",
        "\n",
        "# Get all image files in the folder\n",
        "image_extensions = (\".png\", \".jpg\", \".jpeg\", \".webp\")\n",
        "input_files = [f for f in os.listdir(input_folder) if f.lower().endswith(image_extensions)]\n",
        "\n",
        "print(f\"Found {len(input_files)} image(s). Starting batch processing...\")\n",
        "\n",
        "for filename in input_files:\n",
        "    input_path = os.path.join(input_folder, filename)\n",
        "\n",
        "    # Generate output path (same folder, \"_out\" suffix)\n",
        "    filename_wo_ext, ext = os.path.splitext(filename)\n",
        "    result_path = os.path.join(input_folder, filename_wo_ext + \"_out\" + ext)\n",
        "\n",
        "    # Build command\n",
        "    if face_enhance:\n",
        "        command = f\"python {code} -i '{input_path}' -n {model} -o '{input_folder}' -s {scale} --face_enhance\"\n",
        "    else:\n",
        "        command = f\"python {code} -i '{input_path}' -n {model} -o '{input_folder}' -s {scale}\"\n",
        "\n",
        "    print(f\"Processing: {filename}\")\n",
        "    os.system(command)\n"
      ],
      "metadata": {
        "id": "aRJcSYVwvl2V"
      },
      "execution_count": null,
      "outputs": []
    },
    {
      "cell_type": "code",
      "source": [
        "import os\n",
        "import subprocess\n",
        "import time\n",
        "\n",
        "input_folder = \"/content/Real-ESRGAN/inputs\" # @param {type:\"string\"}\n",
        "output_folder = \"/content/Real-ESRGAN/outputs\" # @param {tupe:\"seting\"}\n",
        "model = \"RealESRGAN_x4plus_anime_6B\" # @param [\"RealESRGAN_x4plus\", \"RealESRGAN_x2plus\", \"RealESRNet_x4plus\", \"official ESRGAN_x4\", \"realesr-general-x4v3\", \"RealESRGAN_x4plus_anime_6B\", \"realesr-animevideov3\"]\n",
        "scale = 2 # @param {type:\"slider\", min:1, max:4, step:1}\n",
        "face_enhance = False # @param {type:\"boolean\"}\n",
        "code = \"inference_realesrgan.py\"\n",
        "\n",
        "os.makedirs(output_folder, exist_ok=True)\n",
        "\n",
        "image_extensions = (\".png\", \".jpg\", \".jpeg\", \".webp\")\n",
        "input_files = [f for f in os.listdir(input_folder) if f.lower().endswith(image_extensions)]\n",
        "\n",
        "print(f\"Found {len(input_files)} image(s). Starting batch processing...\")\n",
        "\n",
        "for i, filename in enumerate(input_files, 1):\n",
        "    input_path = os.path.join(input_folder, filename)\n",
        "\n",
        "    if face_enhance:\n",
        "        command = f\"python {code} -i '{input_path}' -n {model} -o '{output_folder}' -s {scale} --face_enhance\"\n",
        "    else:\n",
        "        command = f\"python {code} -i '{input_path}' -n {model} -o '{output_folder}' -s {scale}\"\n",
        "\n",
        "    print(f\"Processing ({i}/{len(input_files)}): {filename}\")\n",
        "\n",
        "    subprocess.run(command, shell=True, check=True)\n",
        "\n",
        "    print(f\"Processed ({i}/{len(input_files)}): {filename}\")\n",
        "\n",
        "    time.sleep(0.5)  # Optional, to avoid overloading system\n"
      ],
      "metadata": {
        "id": "hjqL32M85qIT"
      },
      "execution_count": null,
      "outputs": []
    },
    {
      "cell_type": "code",
      "source": [
        "# === User-configurable parameters ===\n",
        "\n",
        "input_folder = \"/content/Real-ESRGAN/inputs\"  # @param {type:\"string\"}\n",
        "output_folder = \"/content/Real-ESRGAN/outputs\"  # @param {type:\"string\"}\n",
        "\n",
        "model = \"RealESRGAN_x4plus_anime_6B\"  # @param [\"RealESRGAN_x4plus\", \"RealESRGAN_x2plus\", \"RealESRNet_x4plus\", \"official ESRGAN_x4\", \"realesr-general-x4v3\", \"RealESRGAN_x4plus_anime_6B\", \"realesr-animevideov3\"]\n",
        "\n",
        "scale = 2  # @param {type:\"slider\", min:1, max:4, step:1}\n",
        "face_enhance = False  # @param {type:\"boolean\"}\n"
      ],
      "metadata": {
        "id": "P1Lu7mqgodae"
      },
      "execution_count": null,
      "outputs": []
    }
  ]
}